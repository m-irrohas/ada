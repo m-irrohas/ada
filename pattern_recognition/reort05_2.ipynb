{
 "cells": [
  {
   "cell_type": "code",
   "execution_count": 1,
   "metadata": {},
   "outputs": [],
   "source": [
    "# Requirement\n",
    "import numpy as np\n",
    "import matplotlib.pyplot as plt\n",
    "import glob\n",
    "import csv"
   ]
  },
  {
   "cell_type": "markdown",
   "metadata": {},
   "source": [
    "# データパス\n",
    "`digit`直下にあるファイルを用いる。\n",
    "\n",
    "`digit_train*.csv`:訓練用標本\n",
    "\n",
    "`digit_test*.csv`:テスト標本"
   ]
  },
  {
   "cell_type": "code",
   "execution_count": 2,
   "metadata": {},
   "outputs": [],
   "source": [
    "digit_path = \"./digit\"\n",
    "train_data = glob.glob(digit_path+\"/\"+\"*train*\")\n",
    "test_data = glob.glob(digit_path+\"/\"+\"*test*\")"
   ]
  },
  {
   "cell_type": "code",
   "execution_count": 3,
   "metadata": {},
   "outputs": [
    {
     "name": "stdout",
     "output_type": "stream",
     "text": [
      "訓練用データ['./digit\\\\digit_train0.csv', './digit\\\\digit_train1.csv', './digit\\\\digit_train2.csv', './digit\\\\digit_train3.csv', './digit\\\\digit_train4.csv', './digit\\\\digit_train5.csv', './digit\\\\digit_train6.csv', './digit\\\\digit_train7.csv', './digit\\\\digit_train8.csv', './digit\\\\digit_train9.csv']\n",
      "テスト用データ['./digit\\\\digit_test0.csv', './digit\\\\digit_test1.csv', './digit\\\\digit_test2.csv', './digit\\\\digit_test3.csv', './digit\\\\digit_test4.csv', './digit\\\\digit_test5.csv', './digit\\\\digit_test6.csv', './digit\\\\digit_test7.csv', './digit\\\\digit_test8.csv', './digit\\\\digit_test9.csv']\n"
     ]
    }
   ],
   "source": [
    "print(\"訓練用データ%s\" % train_data)\n",
    "print(\"テスト用データ%s\" % test_data)"
   ]
  },
  {
   "cell_type": "code",
   "execution_count": 4,
   "metadata": {},
   "outputs": [
    {
     "name": "stdout",
     "output_type": "stream",
     "text": [
      "./digit\\digit_train0.csv\n",
      "./digit\\digit_train1.csv\n",
      "./digit\\digit_train2.csv\n",
      "./digit\\digit_train3.csv\n",
      "./digit\\digit_train4.csv\n",
      "./digit\\digit_train5.csv\n",
      "./digit\\digit_train6.csv\n",
      "./digit\\digit_train7.csv\n",
      "./digit\\digit_train8.csv\n",
      "./digit\\digit_train9.csv\n",
      "./digit\\digit_test0.csv\n",
      "./digit\\digit_test1.csv\n",
      "./digit\\digit_test2.csv\n",
      "./digit\\digit_test3.csv\n",
      "./digit\\digit_test4.csv\n",
      "./digit\\digit_test5.csv\n",
      "./digit\\digit_test6.csv\n",
      "./digit\\digit_test7.csv\n",
      "./digit\\digit_test8.csv\n",
      "./digit\\digit_test9.csv\n",
      "訓練用データ(10, 500, 256)\n",
      "テスト用データ(10, 200, 256)\n"
     ]
    }
   ],
   "source": [
    "train_digits = []\n",
    "for train_data_i in train_data:\n",
    "    with open(train_data_i) as f:\n",
    "        print(train_data_i)\n",
    "        reader = csv.reader(f)\n",
    "        digit = [list(map(float, row)) for row in reader]\n",
    "        train_digits.append(digit[:][:])     \n",
    "train_digits = np.array(train_digits)\n",
    "\n",
    "test_digits = []\n",
    "for test_data_i in test_data:\n",
    "    with open(test_data_i) as f:\n",
    "        print(test_data_i)\n",
    "        reader = csv.reader(f)\n",
    "        digit = [list(map(float,row)) for row in reader]\n",
    "        test_digits.append(digit[:][:])\n",
    "test_digits = np.array(test_digits)\n",
    "\n",
    "print(\"訓練用データ{}\".format(train_digits.shape))#(文字数,個数/1文字, データ数/1文字)\n",
    "print(\"テスト用データ{}\".format(test_digits.shape))\n"
   ]
  },
  {
   "cell_type": "code",
   "execution_count": 5,
   "metadata": {},
   "outputs": [
    {
     "data": {
      "text/plain": [
       "<matplotlib.image.AxesImage at 0x215509ab048>"
      ]
     },
     "execution_count": 5,
     "metadata": {},
     "output_type": "execute_result"
    },
    {
     "data": {
      "image/png": "[encoded data removed]",
      "text/plain": [
       "<Figure size 432x288 with 1 Axes>"
      ]
     },
     "metadata": {
      "needs_background": "light"
     },
     "output_type": "display_data"
    }
   ],
   "source": [
    "x = train_digits[6,30,:]\n",
    "plt.imshow(x.reshape(16, 16), 'gray')"
   ]
  },
  {
   "cell_type": "code",
   "execution_count": 6,
   "metadata": {},
   "outputs": [
    {
     "data": {
      "text/plain": [
       "<matplotlib.image.AxesImage at 0x21550f4cfd0>"
      ]
     },
     "execution_count": 6,
     "metadata": {},
     "output_type": "execute_result"
    },
    {
     "data": {
      "image/png": "[encoded data removed]",
      "text/plain": [
       "<Figure size 432x288 with 1 Axes>"
      ]
     },
     "metadata": {
      "needs_background": "light"
     },
     "output_type": "display_data"
    }
   ],
   "source": [
    "x_test = test_digits[8, 20, :]\n",
    "plt.imshow(x_test.reshape(16,16), 'gray')"
   ]
  },
  {
   "cell_type": "markdown",
   "metadata": {},
   "source": [
    "## テストデータ生成"
   ]
  },
  {
   "cell_type": "code",
   "execution_count": 7,
   "metadata": {},
   "outputs": [],
   "source": [
    "def generate_data(data, digit1, digit2):\n",
    "    \"\"\"1対他 or 1対1のためにデータを成形\n",
    "    1対他---digit1:500個\n",
    "            digit2:500*9個\n",
    "    1対1---digit1:500個\n",
    "            digit2:500個\n",
    "    \n",
    "    Arg:\n",
    "        data(ndarray(int, int, float)) ⇒ndarray(文字(0~9), index(0~499 len=500), データ(len=256))\n",
    "        digit1(int) 文字\n",
    "        digit2(list(int)) 文字(1でもリスト格納)\n",
    "        \n",
    "    Return:\n",
    "        x(ndarray(int, float)) concatされた配列 shape(500*n, 256) nは1対他(n=10)or1対1(n=2)により異なる。\n",
    "        y(ndarray(int⇒1or-1)) xに対応するラベル\n",
    "    \"\"\"\n",
    "    x = np.concatenate([data[digit1, :, :], data[digit2,:,:].reshape(-1, data.shape[2])], axis=0)#shape(500*n, 256)\n",
    "    digit2_num = data.shape[1]*len(digit2)\n",
    "    y = np.concatenate([np.ones(data.shape[1]), -np.ones(digit2_num)])#shape=shape(x)\n",
    "    \n",
    "    return x, y"
   ]
  },
  {
   "cell_type": "markdown",
   "metadata": {},
   "source": [
    "# 訓練用関数"
   ]
  },
  {
   "cell_type": "code",
   "execution_count": 8,
   "metadata": {},
   "outputs": [],
   "source": [
    "def get_gauss_kernel(x1_vec, x2_vec, h=10.):\n",
    "    \"\"\"ベクトルに対してガウスカーネルmatの成分を取得する\n",
    "    Arg:\n",
    "        x1_vec(ndarray(float)) ガウスカーネルの引数1 shape=(256)\n",
    "        x2_vec(ndarray(float)) 引数2 shape=(x1_vec.shape)\n",
    "        h(float) ガウス幅 default=10.0\n",
    "        \n",
    "    Return:\n",
    "        k(float) ガウスカーネルマトリックスの1成分\n",
    "    \"\"\"\n",
    "    return np.exp(-np.linalg.norm(x1_vec-x2_vec)**2/(2*h**2))\n",
    "     \n",
    "def get_design_mat(x1, x2, h=10.):\n",
    "    \"\"\"今回はガウスカーネルでデザインマトリックスを生成する。\n",
    "    Arg: x1(ndarray(list(float))) 引数1 shape=(500n, 256)\n",
    "        x2(ndarray(ist(float))) 引数2 shape=(500n, 256)\n",
    "        h(float) ガウス幅\n",
    "    \n",
    "    Return:\n",
    "        K(ndarray(float, float)) shape=(500*n, 500*n)多分\n",
    "    \"\"\"\n",
    "    #print(x1.shape)\n",
    "    #print(x1[:,None].shape)\n",
    "    #print(x2.shape)\n",
    "    #print(x2[None].shape)\n",
    "    n = x1.shape[0] #=len(K_mat) = x2.shape[0]\n",
    "    K_mat = np.empty([n,n])\n",
    "    for i in range(n):\n",
    "        for j in range(n):\n",
    "            K_mat[i,j] = get_gauss_kernel(x1[i, :], x2[j,:])\n",
    "    #print(K_mat.shape) #正方行列になっていることの確認\n",
    "    return K_mat\n",
    "\n",
    "def get_optim_param(K, y, regulater=0.1):\n",
    "    \"\"\"最小二乗回帰により最適パラメータを取得。\n",
    "    Arg:\n",
    "        K(ndarray(float, float)) デザインマトリックス\n",
    "        y(ndarray(int⇒1or-1)) サンプルのy座標\n",
    "        regulater(float) レギュレータ。solveかけたときに発散するのを防ぐ。\n",
    "    \n",
    "    Return:\n",
    "        theta(ndarray(float)) 回帰によるパラメータ\n",
    "    \"\"\"\n",
    "    theta = np.linalg.solve(np.dot(K,K)+regulater*np.eye(len(y)), K.T.dot(y))\n",
    "    #print(theta.shape) #=len(y)\n",
    "    return theta\n",
    "\n",
    "def train(train_digits_data, target_digit):\n",
    "    \"\"\"訓練をまとめた関数。\n",
    "    Arg:\n",
    "        train_digits_data(ndarray(float)) 訓練用データ全部=train_digits,\n",
    "            shape=(10, 500n, 256)\n",
    "        target_digit(int) 教師用ラベル\n",
    "    \n",
    "    Return:\n",
    "        x(ndarray(float)) generateされた訓練データ shape=(500n, 256)\n",
    "        これは分類するタイミングで使う。\n",
    "        theta(ndarray) 訓練されたパラメータ shape=(500n)←=shape(x)[0]\n",
    "    \"\"\"\n",
    "    other_digits = [n for n in range(10)]\n",
    "    other_digits.remove(target_digit)\n",
    "    x, y = generate_data(train_digits_data, target_digit, other_digits)\n",
    "    K_mat = get_design_mat(x, x)\n",
    "    theta = get_optim_param(K_mat, y)\n",
    "    return x, theta"
   ]
  },
  {
   "cell_type": "markdown",
   "metadata": {},
   "source": [
    "# 予測用関数\n",
    "訓練用関数で得た$\\theta$を使う"
   ]
  },
  {
   "cell_type": "code",
   "execution_count": 9,
   "metadata": {},
   "outputs": [],
   "source": [
    "def predict(x, test_digit, hat_theta):\n",
    "    \"\"\"thetaからtargetラベルごとのtest_dataを分類する。\n",
    "    Arg:\n",
    "        x(ndarray(float)) generateされたパラム\n",
    "            shape=(500n, 256)\n",
    "        test_digit(ndarray(float)) generateされたテストパラム\n",
    "            shape=(m, 256)\n",
    "        hat_theta(ndarray(float)) 訓練されたparm shape(500n)\n",
    "        \n",
    "    Return:\n",
    "        Y(ndarray(float)) 予測データ shape=m\n",
    "    \"\"\"\n",
    "    #test_data(ndarray(float)) targetに対応するdigitの集合\n",
    "    Y = np.empty(test_digit.shape[0])\n",
    "    for j in range(test_digit.shape[0]):#m\n",
    "        f_theta = 0\n",
    "        for i in range(x.shape[0]):#500n\n",
    "            f_theta += hat_theta[i]*get_gauss_kernel(x[i, :], test_digit[j,:])\n",
    "        Y[j] = f_theta\n",
    "    return Y\n",
    "\n",
    "\n",
    "def get_valid_matrix(train_data, test_digits, hat_theta):\n",
    "    \"\"\"検証用マトリックスの作成。\n",
    "    とりあえず2×2でやってみる\n",
    "    \"\"\"\n",
    "    valid_mat = np.empty((2,2))\n",
    "    for i in range(2):\n",
    "        test_data = test_digits[i,:,:] #test_digitsのうち適切なindexをpick\n",
    "        predictions = predict(train_data, test_data, hat_theta)\n",
    "        valid_mat[i][0] = np.sum(np.where(predictions>0., 1, 0))\n",
    "        valid_mat[i][1] = np.sum(np.where(predictions<=0., 1, 0))\n",
    "        \n",
    "    return valid_mat"
   ]
  },
  {
   "cell_type": "markdown",
   "metadata": {},
   "source": [
    "# 分類してみる。"
   ]
  },
  {
   "cell_type": "code",
   "execution_count": 10,
   "metadata": {},
   "outputs": [
    {
     "name": "stdout",
     "output_type": "stream",
     "text": [
      "0 is over\n",
      "1 is over\n",
      "2 is over\n",
      "3 is over\n",
      "4 is over\n",
      "5 is over\n",
      "6 is over\n",
      "7 is over\n",
      "8 is over\n",
      "9 is over\n"
     ]
    }
   ],
   "source": [
    "digits = [0,1,2,3,4,5,6,7,8,9]\n",
    "x_c = []\n",
    "theta_c = []\n",
    "valid_mat = np.zeros([len(digits),len(digits)])#正解ラベル, 予測ラベル\n",
    "\n",
    "for class_digit in digits:#クラスごとにfを生成する。\n",
    "    x, theta = train(train_digits, class_digit)\n",
    "    x_c.append(x)\n",
    "    theta_c.append(theta)\n",
    "    print(\"{} is over\".format(class_digit))\n",
    "x_c = np.array(x_c)\n",
    "theta_c = np.array(theta_c)"
   ]
  },
  {
   "cell_type": "code",
   "execution_count": 11,
   "metadata": {},
   "outputs": [
    {
     "name": "stdout",
     "output_type": "stream",
     "text": [
      "(10, 5000, 256)\n",
      "(10, 5000)\n"
     ]
    }
   ],
   "source": [
    "print(x_c.shape)\n",
    "print(theta_c.shape)"
   ]
  },
  {
   "cell_type": "code",
   "execution_count": 12,
   "metadata": {},
   "outputs": [
    {
     "name": "stdout",
     "output_type": "stream",
     "text": [
      "pred-0 is over\n",
      "pred-1 is over\n",
      "pred-2 is over\n",
      "pred-3 is over\n",
      "pred-4 is over\n",
      "pred-5 is over\n",
      "pred-6 is over\n",
      "pred-7 is over\n",
      "pred-8 is over\n",
      "pred-9 is over\n",
      "[[197.   0.   1.   0.   0.   0.   2.   0.   0.   0.]\n",
      " [  0. 199.   1.   0.   0.   0.   0.   0.   0.   0.]\n",
      " [  0.   0. 193.   0.   5.   0.   0.   1.   1.   0.]\n",
      " [  0.   0.   0. 192.   0.   4.   0.   2.   2.   0.]\n",
      " [  0.   1.   0.   0. 190.   0.   4.   0.   0.   5.]\n",
      " [  2.   0.   1.   4.   2. 187.   0.   0.   0.   4.]\n",
      " [  1.   0.   2.   0.   1.   1. 195.   0.   0.   0.]\n",
      " [  0.   1.   1.   0.   3.   0.   0. 188.   1.   6.]\n",
      " [  2.   0.   1.   5.   0.   2.   0.   0. 187.   3.]\n",
      " [  0.   0.   0.   0.   1.   0.   0.   1.   2. 196.]]\n"
     ]
    }
   ],
   "source": [
    "for target_digit in digits:#目標のdigitごとに正解判別を行う\n",
    "    test_digit_group = test_digits[target_digit]\n",
    "    Y_pred_all_class = np.empty([len(digits), test_digit_group.shape[0]])\n",
    "    for class_digit in digits:#fの探査\n",
    "        x = x_c[class_digit,:,:]\n",
    "        theta = theta_c[class_digit,:]\n",
    "        Y_pred = predict(x, test_digit_group, theta)\n",
    "        Y_pred_all_class[class_digit] = Y_pred\n",
    "    validation = np.argmax(Y_pred_all_class, axis=0)\n",
    "    print(\"pred-{} is over\".format(target_digit))\n",
    "    for i in digits:\n",
    "        valid_mat[target_digit, i] = np.sum(np.where(validation==i, 1, 0))\n",
    "print(valid_mat)"
   ]
  },
  {
   "cell_type": "code",
   "execution_count": 13,
   "metadata": {},
   "outputs": [
    {
     "data": {
      "text/plain": [
       "0.962"
      ]
     },
     "execution_count": 13,
     "metadata": {},
     "output_type": "execute_result"
    }
   ],
   "source": [
    "(197+199+193+192+190+187+195+188+187+196)/2000"
   ]
  },
  {
   "cell_type": "code",
   "execution_count": 14,
   "metadata": {},
   "outputs": [
    {
     "data": {
      "text/plain": [
       "1924"
      ]
     },
     "execution_count": 14,
     "metadata": {},
     "output_type": "execute_result"
    }
   ],
   "source": [
    "197+199+193+192+190+187+195+188+187+196"
   ]
  },
  {
   "cell_type": "code",
   "execution_count": null,
   "metadata": {},
   "outputs": [],
   "source": []
  }
 ],
 "metadata": {
  "kernelspec": {
   "display_name": "Python 3",
   "language": "python",
   "name": "python3"
  },
  "language_info": {
   "codemirror_mode": {
    "name": "ipython",
    "version": 3
   },
   "file_extension": ".py",
   "mimetype": "text/x-python",
   "name": "python",
   "nbconvert_exporter": "python",
   "pygments_lexer": "ipython3",
   "version": "3.7.1"
  }
 },
 "nbformat": 4,
 "nbformat_minor": 2
}
